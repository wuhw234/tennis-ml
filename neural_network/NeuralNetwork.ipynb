{
 "cells": [
  {
   "cell_type": "code",
   "execution_count": null,
   "metadata": {},
   "outputs": [],
   "source": []
  }
 ],
 "metadata": {
  "kernelspec": {
   "display_name": "env",
   "language": "python",
   "name": "python3"
  },
  "language_info": {
   "name": "python",
   "version": "3.9.6"
  },
  "orig_nbformat": 4,
  "vscode": {
   "interpreter": {
    "hash": "5c387c56ae450897d1d6677bb1bb04b8f7b3f7f9924967827e96c8d61cb0c0e4"
   }
  }
 },
 "nbformat": 4,
 "nbformat_minor": 2
}
